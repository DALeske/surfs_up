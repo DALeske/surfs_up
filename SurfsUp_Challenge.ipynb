{
 "cells": [
  {
   "cell_type": "code",
   "execution_count": 1,
   "metadata": {},
   "outputs": [],
   "source": [
    "# Dependencies\n",
    "import numpy as np\n",
    "import pandas as pd\n",
    "\n",
    "# Python SQL toolkit and Object Relational Mapper\n",
    "import sqlalchemy\n",
    "from sqlalchemy.ext.automap import automap_base\n",
    "from sqlalchemy.orm import Session\n",
    "from sqlalchemy import create_engine, func\n",
    "import datetime as dt"
   ]
  },
  {
   "cell_type": "code",
   "execution_count": 2,
   "metadata": {},
   "outputs": [],
   "source": [
    "engine = create_engine(\"sqlite:///hawaii.sqlite\")\n",
    "\n",
    "# reflect an existing database into a new model\n",
    "Base = automap_base()\n",
    "# reflect the tables\n",
    "Base.prepare(engine, reflect=True)\n",
    "\n",
    "# Save references to each table\n",
    "Measurement = Base.classes.measurement\n",
    "Station = Base.classes.station"
   ]
  },
  {
   "cell_type": "code",
   "execution_count": 3,
   "metadata": {},
   "outputs": [],
   "source": [
    "# Create our session (link) from Python to the DB\n",
    "session = Session(engine)"
   ]
  },
  {
   "cell_type": "markdown",
   "metadata": {},
   "source": [
    "## D1: Determine the Summary Statistics for June"
   ]
  },
  {
   "cell_type": "code",
   "execution_count": 40,
   "metadata": {},
   "outputs": [
    {
     "data": {
      "text/plain": [
       "<sqlalchemy.orm.query.Query at 0x1fb9619ef48>"
      ]
     },
     "execution_count": 40,
     "metadata": {},
     "output_type": "execute_result"
    }
   ],
   "source": [
    "# 1. Import the sqlalchemy extract function.\n",
    "from sqlalchemy import extract\n",
    "\n",
    "# 2. Write a query that filters the Measurement table to retrieve the temperatures for the month of June. \n",
    "#results = session.query(Measurement.tobs).\\\n",
    "#filter(Measurement.date >= dt.date(2017, 6, 1)).\\\n",
    "#filter(Measurement.date <= dt.date(2017, 6, 31)).all()\n",
    "\n",
    "results = session.query(Measurement.tobs).filter(func.strftime(\"%m\", Measurement.date) == \"06\")\n",
    "results"
   ]
  },
  {
   "cell_type": "code",
   "execution_count": 36,
   "metadata": {},
   "outputs": [
    {
     "data": {
      "text/plain": [
       "[<sqlalchemy.orm.query.Query at 0x1fb961995c8>]"
      ]
     },
     "execution_count": 36,
     "metadata": {},
     "output_type": "execute_result"
    }
   ],
   "source": [
    "#  3. Convert the June temperatures to a list.\n",
    "jun_temps =  list(np.ravel(results))\n",
    "jun_temps"
   ]
  },
  {
   "cell_type": "code",
   "execution_count": 37,
   "metadata": {},
   "outputs": [],
   "source": [
    "# 4. Create a DataFrame from the list of temperatures for the month of June. \n",
    "jun_temps_df = pd.DataFrame(jun_temps)\n"
   ]
  },
  {
   "cell_type": "code",
   "execution_count": 38,
   "metadata": {},
   "outputs": [
    {
     "data": {
      "text/html": [
       "<div>\n",
       "<style scoped>\n",
       "    .dataframe tbody tr th:only-of-type {\n",
       "        vertical-align: middle;\n",
       "    }\n",
       "\n",
       "    .dataframe tbody tr th {\n",
       "        vertical-align: top;\n",
       "    }\n",
       "\n",
       "    .dataframe thead th {\n",
       "        text-align: right;\n",
       "    }\n",
       "</style>\n",
       "<table border=\"1\" class=\"dataframe\">\n",
       "  <thead>\n",
       "    <tr style=\"text-align: right;\">\n",
       "      <th></th>\n",
       "      <th>0</th>\n",
       "      <th>1</th>\n",
       "      <th>2</th>\n",
       "      <th>3</th>\n",
       "      <th>4</th>\n",
       "      <th>5</th>\n",
       "      <th>6</th>\n",
       "      <th>7</th>\n",
       "      <th>8</th>\n",
       "      <th>9</th>\n",
       "      <th>...</th>\n",
       "      <th>230</th>\n",
       "      <th>231</th>\n",
       "      <th>232</th>\n",
       "      <th>233</th>\n",
       "      <th>234</th>\n",
       "      <th>235</th>\n",
       "      <th>236</th>\n",
       "      <th>237</th>\n",
       "      <th>238</th>\n",
       "      <th>239</th>\n",
       "    </tr>\n",
       "  </thead>\n",
       "  <tbody>\n",
       "    <tr>\n",
       "      <th>count</th>\n",
       "      <td>1</td>\n",
       "      <td>1</td>\n",
       "      <td>1</td>\n",
       "      <td>1</td>\n",
       "      <td>1</td>\n",
       "      <td>1</td>\n",
       "      <td>1</td>\n",
       "      <td>1</td>\n",
       "      <td>1</td>\n",
       "      <td>1</td>\n",
       "      <td>...</td>\n",
       "      <td>1</td>\n",
       "      <td>1</td>\n",
       "      <td>1</td>\n",
       "      <td>1</td>\n",
       "      <td>1</td>\n",
       "      <td>1</td>\n",
       "      <td>1</td>\n",
       "      <td>1</td>\n",
       "      <td>1</td>\n",
       "      <td>1</td>\n",
       "    </tr>\n",
       "    <tr>\n",
       "      <th>unique</th>\n",
       "      <td>1</td>\n",
       "      <td>1</td>\n",
       "      <td>1</td>\n",
       "      <td>1</td>\n",
       "      <td>1</td>\n",
       "      <td>1</td>\n",
       "      <td>1</td>\n",
       "      <td>1</td>\n",
       "      <td>1</td>\n",
       "      <td>1</td>\n",
       "      <td>...</td>\n",
       "      <td>1</td>\n",
       "      <td>1</td>\n",
       "      <td>1</td>\n",
       "      <td>1</td>\n",
       "      <td>1</td>\n",
       "      <td>1</td>\n",
       "      <td>1</td>\n",
       "      <td>1</td>\n",
       "      <td>1</td>\n",
       "      <td>1</td>\n",
       "    </tr>\n",
       "    <tr>\n",
       "      <th>top</th>\n",
       "      <td>(78.0)</td>\n",
       "      <td>(76.0)</td>\n",
       "      <td>(78.0)</td>\n",
       "      <td>(76.0)</td>\n",
       "      <td>(77.0)</td>\n",
       "      <td>(78.0)</td>\n",
       "      <td>(77.0)</td>\n",
       "      <td>(78.0)</td>\n",
       "      <td>(78.0)</td>\n",
       "      <td>(79.0)</td>\n",
       "      <td>...</td>\n",
       "      <td>(79.0)</td>\n",
       "      <td>(80.0)</td>\n",
       "      <td>(78.0)</td>\n",
       "      <td>(80.0)</td>\n",
       "      <td>(80.0)</td>\n",
       "      <td>(81.0)</td>\n",
       "      <td>(80.0)</td>\n",
       "      <td>(79.0)</td>\n",
       "      <td>(79.0)</td>\n",
       "      <td>(75.0)</td>\n",
       "    </tr>\n",
       "    <tr>\n",
       "      <th>freq</th>\n",
       "      <td>1</td>\n",
       "      <td>1</td>\n",
       "      <td>1</td>\n",
       "      <td>1</td>\n",
       "      <td>1</td>\n",
       "      <td>1</td>\n",
       "      <td>1</td>\n",
       "      <td>1</td>\n",
       "      <td>1</td>\n",
       "      <td>1</td>\n",
       "      <td>...</td>\n",
       "      <td>1</td>\n",
       "      <td>1</td>\n",
       "      <td>1</td>\n",
       "      <td>1</td>\n",
       "      <td>1</td>\n",
       "      <td>1</td>\n",
       "      <td>1</td>\n",
       "      <td>1</td>\n",
       "      <td>1</td>\n",
       "      <td>1</td>\n",
       "    </tr>\n",
       "  </tbody>\n",
       "</table>\n",
       "<p>4 rows × 240 columns</p>\n",
       "</div>"
      ],
      "text/plain": [
       "           0       1       2       3       4       5       6       7    \\\n",
       "count        1       1       1       1       1       1       1       1   \n",
       "unique       1       1       1       1       1       1       1       1   \n",
       "top     (78.0)  (76.0)  (78.0)  (76.0)  (77.0)  (78.0)  (77.0)  (78.0)   \n",
       "freq         1       1       1       1       1       1       1       1   \n",
       "\n",
       "           8       9    ...     230     231     232     233     234     235  \\\n",
       "count        1       1  ...       1       1       1       1       1       1   \n",
       "unique       1       1  ...       1       1       1       1       1       1   \n",
       "top     (78.0)  (79.0)  ...  (79.0)  (80.0)  (78.0)  (80.0)  (80.0)  (81.0)   \n",
       "freq         1       1  ...       1       1       1       1       1       1   \n",
       "\n",
       "           236     237     238     239  \n",
       "count        1       1       1       1  \n",
       "unique       1       1       1       1  \n",
       "top     (80.0)  (79.0)  (79.0)  (75.0)  \n",
       "freq         1       1       1       1  \n",
       "\n",
       "[4 rows x 240 columns]"
      ]
     },
     "execution_count": 38,
     "metadata": {},
     "output_type": "execute_result"
    }
   ],
   "source": [
    "# 5. Calculate and print out the summary statistics for the June temperature DataFrame.\n",
    "jun_temps_df.describe()"
   ]
  },
  {
   "cell_type": "markdown",
   "metadata": {},
   "source": [
    "## D2: Determine the Summary Statistics for December"
   ]
  },
  {
   "cell_type": "code",
   "execution_count": 47,
   "metadata": {},
   "outputs": [],
   "source": [
    "# 6. Write a query that filters the Measurement table to retrieve the temperatures for the month of December.\n",
    "#results = session.query(Measurement.tobs).\\\n",
    "#filter(Measurement.date >= dt.date(2016, 12, 1)).\\\n",
    "#filter(Measurement.date <= dt.date(2016, 12, 31)).all()\n",
    "\n",
    "results = session.query(Measurement.tobs).filter(func.strftime(\"%m\", Measurement.date) == \"12\")\n",
    "results\n",
    "\n",
    "\n"
   ]
  },
  {
   "cell_type": "code",
   "execution_count": 48,
   "metadata": {},
   "outputs": [
    {
     "data": {
      "text/plain": [
       "[75.0,\n",
       " 72.0,\n",
       " 69.0,\n",
       " 71.0,\n",
       " 68.0,\n",
       " 67.0,\n",
       " 69.0,\n",
       " 73.0,\n",
       " 70.0,\n",
       " 70.0,\n",
       " 70.0,\n",
       " 66.0,\n",
       " 67.0,\n",
       " 70.0,\n",
       " 66.0,\n",
       " 62.0,\n",
       " 71.0,\n",
       " 73.0,\n",
       " 69.0,\n",
       " 77.0,\n",
       " 74.0,\n",
       " 71.0,\n",
       " 72.0,\n",
       " 74.0,\n",
       " 74.0,\n",
       " 74.0,\n",
       " 74.0,\n",
       " 71.0,\n",
       " 73.0,\n",
       " 69.0,\n",
       " 66.0,\n",
       " 73.0,\n",
       " 71.0,\n",
       " 71.0,\n",
       " 69.0,\n",
       " 68.0,\n",
       " 70.0,\n",
       " 71.0,\n",
       " 72.0,\n",
       " 70.0,\n",
       " 71.0,\n",
       " 72.0,\n",
       " 68.0,\n",
       " 68.0,\n",
       " 70.0,\n",
       " 70.0,\n",
       " 63.0,\n",
       " 71.0,\n",
       " 67.0,\n",
       " 69.0,\n",
       " 74.0,\n",
       " 72.0,\n",
       " 70.0,\n",
       " 69.0,\n",
       " 73.0,\n",
       " 74.0,\n",
       " 74.0,\n",
       " 73.0,\n",
       " 71.0,\n",
       " 72.0,\n",
       " 69.0,\n",
       " 71.0,\n",
       " 75.0,\n",
       " 77.0,\n",
       " 75.0,\n",
       " 77.0,\n",
       " 76.0,\n",
       " 76.0,\n",
       " 75.0,\n",
       " 72.0,\n",
       " 76.0,\n",
       " 75.0,\n",
       " 72.0,\n",
       " 72.0,\n",
       " 75.0,\n",
       " 69.0,\n",
       " 75.0,\n",
       " 74.0,\n",
       " 78.0,\n",
       " 77.0,\n",
       " 76.0,\n",
       " 72.0,\n",
       " 73.0,\n",
       " 74.0,\n",
       " 74.0,\n",
       " 74.0,\n",
       " 73.0,\n",
       " 73.0,\n",
       " 71.0,\n",
       " 72.0,\n",
       " 72.0,\n",
       " 70.0,\n",
       " 68.0,\n",
       " 74.0,\n",
       " 71.0,\n",
       " 70.0,\n",
       " 70.0,\n",
       " 70.0,\n",
       " 68.0,\n",
       " 68.0,\n",
       " 68.0,\n",
       " 66.0,\n",
       " 71.0,\n",
       " 76.0,\n",
       " 73.0,\n",
       " 70.0,\n",
       " 68.0,\n",
       " 71.0,\n",
       " 71.0,\n",
       " 68.0,\n",
       " 76.0,\n",
       " 75.0,\n",
       " 75.0,\n",
       " 75.0,\n",
       " 70.0,\n",
       " 70.0,\n",
       " 74.0,\n",
       " 73.0,\n",
       " 72.0,\n",
       " 78.0,\n",
       " 67.0,\n",
       " 69.0,\n",
       " 71.0,\n",
       " 74.0,\n",
       " 63.0,\n",
       " 76.0,\n",
       " 76.0,\n",
       " 71.0,\n",
       " 76.0,\n",
       " 77.0,\n",
       " 73.0,\n",
       " 71.0,\n",
       " 78.0,\n",
       " 78.0,\n",
       " 75.0,\n",
       " 75.0,\n",
       " 72.0,\n",
       " 77.0,\n",
       " 72.0,\n",
       " 74.0,\n",
       " 70.0,\n",
       " 72.0,\n",
       " 70.0,\n",
       " 67.0,\n",
       " 67.0,\n",
       " 69.0,\n",
       " 70.0,\n",
       " 68.0,\n",
       " 69.0,\n",
       " 69.0,\n",
       " 66.0,\n",
       " 65.0,\n",
       " 68.0,\n",
       " 62.0,\n",
       " 75.0,\n",
       " 70.0,\n",
       " 69.0,\n",
       " 76.0,\n",
       " 76.0,\n",
       " 74.0,\n",
       " 73.0,\n",
       " 71.0,\n",
       " 74.0,\n",
       " 74.0,\n",
       " 72.0,\n",
       " 71.0,\n",
       " 72.0,\n",
       " 74.0,\n",
       " 69.0,\n",
       " 67.0,\n",
       " 71.0,\n",
       " 71.0,\n",
       " 67.0,\n",
       " 76.0,\n",
       " 67.0,\n",
       " 67.0,\n",
       " 68.0,\n",
       " 71.0,\n",
       " 68.0,\n",
       " 68.0,\n",
       " 69.0,\n",
       " 65.0,\n",
       " 70.0,\n",
       " 69.0,\n",
       " 64.0,\n",
       " 60.0,\n",
       " 67.0,\n",
       " 72.0,\n",
       " 73.0,\n",
       " 70.0,\n",
       " 68.0,\n",
       " 69.0,\n",
       " 69.0,\n",
       " 69.0,\n",
       " 71.0,\n",
       " 71.0,\n",
       " 71.0,\n",
       " 69.0,\n",
       " 65.0,\n",
       " 65.0]"
      ]
     },
     "execution_count": 48,
     "metadata": {},
     "output_type": "execute_result"
    }
   ],
   "source": [
    "# 7. Convert the December temperatures to a list.\n",
    "dec_temps =  list(np.ravel(results))\n",
    "dec_temps"
   ]
  },
  {
   "cell_type": "code",
   "execution_count": 44,
   "metadata": {},
   "outputs": [],
   "source": [
    "# 8. Create a DataFrame from the list of temperatures for the month of December. \n",
    "dec_temps_df = pd.DataFrame(dec_temps)"
   ]
  },
  {
   "cell_type": "code",
   "execution_count": 45,
   "metadata": {},
   "outputs": [
    {
     "data": {
      "text/html": [
       "<div>\n",
       "<style scoped>\n",
       "    .dataframe tbody tr th:only-of-type {\n",
       "        vertical-align: middle;\n",
       "    }\n",
       "\n",
       "    .dataframe tbody tr th {\n",
       "        vertical-align: top;\n",
       "    }\n",
       "\n",
       "    .dataframe thead th {\n",
       "        text-align: right;\n",
       "    }\n",
       "</style>\n",
       "<table border=\"1\" class=\"dataframe\">\n",
       "  <thead>\n",
       "    <tr style=\"text-align: right;\">\n",
       "      <th></th>\n",
       "      <th>0</th>\n",
       "    </tr>\n",
       "  </thead>\n",
       "  <tbody>\n",
       "    <tr>\n",
       "      <th>count</th>\n",
       "      <td>200.000000</td>\n",
       "    </tr>\n",
       "    <tr>\n",
       "      <th>mean</th>\n",
       "      <td>71.130000</td>\n",
       "    </tr>\n",
       "    <tr>\n",
       "      <th>std</th>\n",
       "      <td>3.419292</td>\n",
       "    </tr>\n",
       "    <tr>\n",
       "      <th>min</th>\n",
       "      <td>60.000000</td>\n",
       "    </tr>\n",
       "    <tr>\n",
       "      <th>25%</th>\n",
       "      <td>69.000000</td>\n",
       "    </tr>\n",
       "    <tr>\n",
       "      <th>50%</th>\n",
       "      <td>71.000000</td>\n",
       "    </tr>\n",
       "    <tr>\n",
       "      <th>75%</th>\n",
       "      <td>74.000000</td>\n",
       "    </tr>\n",
       "    <tr>\n",
       "      <th>max</th>\n",
       "      <td>78.000000</td>\n",
       "    </tr>\n",
       "  </tbody>\n",
       "</table>\n",
       "</div>"
      ],
      "text/plain": [
       "                0\n",
       "count  200.000000\n",
       "mean    71.130000\n",
       "std      3.419292\n",
       "min     60.000000\n",
       "25%     69.000000\n",
       "50%     71.000000\n",
       "75%     74.000000\n",
       "max     78.000000"
      ]
     },
     "execution_count": 45,
     "metadata": {},
     "output_type": "execute_result"
    }
   ],
   "source": [
    "# 9. Calculate and print out the summary statistics for the Decemeber temperature DataFrame.\n",
    "dec_temps_df.describe()"
   ]
  },
  {
   "cell_type": "markdown",
   "metadata": {},
   "source": [
    "# EXTRA"
   ]
  },
  {
   "cell_type": "code",
   "execution_count": 20,
   "metadata": {},
   "outputs": [
    {
     "data": {
      "text/plain": [
       "('2010-01-01',)"
      ]
     },
     "execution_count": 20,
     "metadata": {},
     "output_type": "execute_result"
    }
   ],
   "source": [
    "#First Date\n",
    "session.query(Measurement.date).order_by(Measurement.date).first()"
   ]
  },
  {
   "cell_type": "code",
   "execution_count": 17,
   "metadata": {},
   "outputs": [
    {
     "data": {
      "text/plain": [
       "<sqlalchemy.orm.query.Query at 0x1fb95d95448>"
      ]
     },
     "execution_count": 17,
     "metadata": {},
     "output_type": "execute_result"
    }
   ],
   "source": [
    "session.query(Measurement.date)"
   ]
  },
  {
   "cell_type": "code",
   "execution_count": 41,
   "metadata": {},
   "outputs": [
    {
     "data": {
      "text/plain": [
       "<sqlalchemy.orm.query.Query at 0x1fb9616af08>"
      ]
     },
     "execution_count": 41,
     "metadata": {},
     "output_type": "execute_result"
    }
   ],
   "source": [
    "results = session.query(Measurement.tobs).filter(func.strftime(\"%m\", Measurement.date) == \"12\")\n",
    "results"
   ]
  },
  {
   "cell_type": "code",
   "execution_count": 22,
   "metadata": {},
   "outputs": [
    {
     "name": "stdout",
     "output_type": "stream",
     "text": [
      "2022-02-20\n",
      "2017-10-08\n"
     ]
    }
   ],
   "source": [
    "print(dt.date.today())\n",
    "# Print a specific date \n",
    "print(dt.date(2017,10 ,8))"
   ]
  },
  {
   "cell_type": "code",
   "execution_count": 25,
   "metadata": {},
   "outputs": [
    {
     "data": {
      "text/plain": [
       "'02'"
      ]
     },
     "execution_count": 25,
     "metadata": {},
     "output_type": "execute_result"
    }
   ],
   "source": [
    "dt.date.today().strftime(\"%m\")"
   ]
  },
  {
   "cell_type": "code",
   "execution_count": null,
   "metadata": {},
   "outputs": [],
   "source": []
  }
 ],
 "metadata": {
  "kernelspec": {
   "display_name": "PythonData",
   "language": "python",
   "name": "pythondata"
  },
  "language_info": {
   "codemirror_mode": {
    "name": "ipython",
    "version": 3
   },
   "file_extension": ".py",
   "mimetype": "text/x-python",
   "name": "python",
   "nbconvert_exporter": "python",
   "pygments_lexer": "ipython3",
   "version": "3.7.11"
  }
 },
 "nbformat": 4,
 "nbformat_minor": 2
}
